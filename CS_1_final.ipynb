{
 "cells": [
  {
   "cell_type": "code",
   "execution_count": 1,
   "metadata": {},
   "outputs": [],
   "source": [
    "import pandas as pd\n",
    "import numpy as np\n",
    "from sklearn.metrics import f1_score\n",
    "import pickle"
   ]
  },
  {
   "cell_type": "code",
   "execution_count": 2,
   "metadata": {},
   "outputs": [],
   "source": [
    "import warnings \n",
    "\n",
    "warnings.filterwarnings(\"ignore\") "
   ]
  },
  {
   "cell_type": "code",
   "execution_count": 3,
   "metadata": {},
   "outputs": [],
   "source": [
    "with open(r\"for_test.pickle\", \"rb\") as input_file:\n",
    "    for_test=pickle.load(input_file)\n",
    "lead_time_median = for_test['lead_time_median']\n",
    "train_columns = for_test['train_columns']\n",
    "scaler = for_test['scaler']\n",
    "trained_models = for_test['trained_models']\n",
    "ensemble_model = for_test['ensemble_model']\n"
   ]
  },
  {
   "cell_type": "code",
   "execution_count": 4,
   "metadata": {},
   "outputs": [],
   "source": [
    "def final_fun_1(X):\n",
    "    X['lead_time'].fillna(lead_time_median,inplace=True)\n",
    "    X['forecast']=(X['forecast_3_month']>0)|(X['forecast_6_month']>0)|(X['forecast_9_month']>0)\n",
    "    X['forecast']=X['forecast'].astype(int)\n",
    "    X['sales']=(X['sales_1_month']>0)|(X['sales_3_month']>0)|(X['sales_6_month']>0)|(X['sales_9_month']>0)\n",
    "    X['sales']=X['sales'].astype(int)\n",
    "\n",
    "    X = X.drop(labels=['sku'],axis=1)\n",
    "    X= pd.get_dummies(X,drop_first=True)\n",
    "\n",
    "    # https://stackoverflow.com/questions/41335718/keep-same-dummy-variable-in-training-and-testing-data\n",
    "    # Ensuring same set of columns for train and test\n",
    "    delta_cols = set(train_columns) - set(X.columns)\n",
    "\n",
    "    for c in delta_cols:\n",
    "        X[c] = 0\n",
    "\n",
    "    X = X[train_columns]\n",
    "    X_norm = scaler.transform(X)\n",
    "    X = pd.DataFrame(X_norm,columns=X.columns)\n",
    "    \n",
    "    test_x = X.iloc[:,:-1]\n",
    "    ensemble_x = pd.DataFrame()\n",
    "    for i,m in enumerate(trained_models):\n",
    "        pred = m.predict_proba(test_x)[:,1]\n",
    "        pred = pd.DataFrame(pred,columns=[str(i)])\n",
    "        ensemble_x = pd.concat([ensemble_x,pred],axis=1)\n",
    "    predict_y = ensemble_model.predict(ensemble_x)\n",
    "    return predict_y"
   ]
  },
  {
   "cell_type": "code",
   "execution_count": 5,
   "metadata": {},
   "outputs": [],
   "source": [
    "def final_fun_2(X,y):\n",
    "    pred = final_fun_1(X)\n",
    "    return f1_score(y,pred)"
   ]
  },
  {
   "cell_type": "code",
   "execution_count": 6,
   "metadata": {},
   "outputs": [
    {
     "name": "stdout",
     "output_type": "stream",
     "text": [
      "F1 score: 0.2738001573564123\n"
     ]
    }
   ],
   "source": [
    "num_rows = 10000\n",
    "test_data = pd.read_csv(\"dataset/Kaggle_Test_Dataset_v2.csv\")\n",
    "X = test_data[:num_rows]\n",
    "y = test_data['went_on_backorder'].replace({'Yes':1,'No':0})[:num_rows]\n",
    "print(\"F1 score:\",final_fun_2(X,y))"
   ]
  },
  {
   "cell_type": "code",
   "execution_count": null,
   "metadata": {},
   "outputs": [],
   "source": []
  }
 ],
 "metadata": {
  "kernelspec": {
   "display_name": "Python 3",
   "language": "python",
   "name": "python3"
  },
  "language_info": {
   "codemirror_mode": {
    "name": "ipython",
    "version": 3
   },
   "file_extension": ".py",
   "mimetype": "text/x-python",
   "name": "python",
   "nbconvert_exporter": "python",
   "pygments_lexer": "ipython3",
   "version": "3.8.5"
  }
 },
 "nbformat": 4,
 "nbformat_minor": 4
}
